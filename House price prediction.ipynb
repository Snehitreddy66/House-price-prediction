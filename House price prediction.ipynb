{
 "cells": [
  {
   "cell_type": "code",
   "execution_count": 95,
   "id": "8f57684a",
   "metadata": {
    "ExecuteTime": {
     "end_time": "2022-12-09T11:00:41.291845Z",
     "start_time": "2022-12-09T11:00:41.278958Z"
    }
   },
   "outputs": [],
   "source": [
    "import pandas as pd\n",
    "import numpy as np\n",
    "import matplotlib.pyplot as plt\n",
    "%matplotlib inline"
   ]
  },
  {
   "cell_type": "markdown",
   "id": "51333eb2",
   "metadata": {},
   "source": [
    "# Importing Train and test data"
   ]
  },
  {
   "cell_type": "code",
   "execution_count": 2,
   "id": "e7e3083e",
   "metadata": {
    "ExecuteTime": {
     "end_time": "2022-12-09T10:48:06.258949Z",
     "start_time": "2022-12-09T10:48:06.186354Z"
    }
   },
   "outputs": [],
   "source": [
    "train = pd.read_csv('train.csv')"
   ]
  },
  {
   "cell_type": "code",
   "execution_count": 3,
   "id": "9fc7f298",
   "metadata": {
    "ExecuteTime": {
     "end_time": "2022-12-09T10:48:06.320849Z",
     "start_time": "2022-12-09T10:48:06.263939Z"
    }
   },
   "outputs": [],
   "source": [
    "test = pd.read_csv('test.csv')"
   ]
  },
  {
   "cell_type": "code",
   "execution_count": 4,
   "id": "d5e77848",
   "metadata": {
    "ExecuteTime": {
     "end_time": "2022-12-09T10:48:06.352435Z",
     "start_time": "2022-12-09T10:48:06.329294Z"
    }
   },
   "outputs": [
    {
     "data": {
      "text/plain": [
       "(1460, 81)"
      ]
     },
     "execution_count": 4,
     "metadata": {},
     "output_type": "execute_result"
    }
   ],
   "source": [
    "train.shape\n"
   ]
  },
  {
   "cell_type": "code",
   "execution_count": 5,
   "id": "3ac5d040",
   "metadata": {
    "ExecuteTime": {
     "end_time": "2022-12-09T10:48:06.372647Z",
     "start_time": "2022-12-09T10:48:06.357434Z"
    }
   },
   "outputs": [
    {
     "data": {
      "text/plain": [
       "(1459, 80)"
      ]
     },
     "execution_count": 5,
     "metadata": {},
     "output_type": "execute_result"
    }
   ],
   "source": [
    "test.shape\n",
    "\n",
    "# sample submission is for submitting predictions into competetion site"
   ]
  },
  {
   "cell_type": "markdown",
   "id": "1afee275",
   "metadata": {},
   "source": [
    "**With 79 explanatory variables describing (almost) every aspect of residential homes in Ames, Iowa, this competition challenges you to predict the final price of each home.**"
   ]
  },
  {
   "cell_type": "code",
   "execution_count": 6,
   "id": "8fb2c702",
   "metadata": {
    "ExecuteTime": {
     "end_time": "2022-12-09T10:48:06.413401Z",
     "start_time": "2022-12-09T10:48:06.374506Z"
    }
   },
   "outputs": [
    {
     "data": {
      "text/plain": [
       "<bound method DataFrame.info of         Id  MSSubClass MSZoning  LotFrontage  LotArea Street Alley LotShape  \\\n",
       "0        1          60       RL         65.0     8450   Pave   NaN      Reg   \n",
       "1        2          20       RL         80.0     9600   Pave   NaN      Reg   \n",
       "2        3          60       RL         68.0    11250   Pave   NaN      IR1   \n",
       "3        4          70       RL         60.0     9550   Pave   NaN      IR1   \n",
       "4        5          60       RL         84.0    14260   Pave   NaN      IR1   \n",
       "...    ...         ...      ...          ...      ...    ...   ...      ...   \n",
       "1455  1456          60       RL         62.0     7917   Pave   NaN      Reg   \n",
       "1456  1457          20       RL         85.0    13175   Pave   NaN      Reg   \n",
       "1457  1458          70       RL         66.0     9042   Pave   NaN      Reg   \n",
       "1458  1459          20       RL         68.0     9717   Pave   NaN      Reg   \n",
       "1459  1460          20       RL         75.0     9937   Pave   NaN      Reg   \n",
       "\n",
       "     LandContour Utilities  ... PoolArea PoolQC  Fence MiscFeature MiscVal  \\\n",
       "0            Lvl    AllPub  ...        0    NaN    NaN         NaN       0   \n",
       "1            Lvl    AllPub  ...        0    NaN    NaN         NaN       0   \n",
       "2            Lvl    AllPub  ...        0    NaN    NaN         NaN       0   \n",
       "3            Lvl    AllPub  ...        0    NaN    NaN         NaN       0   \n",
       "4            Lvl    AllPub  ...        0    NaN    NaN         NaN       0   \n",
       "...          ...       ...  ...      ...    ...    ...         ...     ...   \n",
       "1455         Lvl    AllPub  ...        0    NaN    NaN         NaN       0   \n",
       "1456         Lvl    AllPub  ...        0    NaN  MnPrv         NaN       0   \n",
       "1457         Lvl    AllPub  ...        0    NaN  GdPrv        Shed    2500   \n",
       "1458         Lvl    AllPub  ...        0    NaN    NaN         NaN       0   \n",
       "1459         Lvl    AllPub  ...        0    NaN    NaN         NaN       0   \n",
       "\n",
       "     MoSold YrSold  SaleType  SaleCondition  SalePrice  \n",
       "0         2   2008        WD         Normal     208500  \n",
       "1         5   2007        WD         Normal     181500  \n",
       "2         9   2008        WD         Normal     223500  \n",
       "3         2   2006        WD        Abnorml     140000  \n",
       "4        12   2008        WD         Normal     250000  \n",
       "...     ...    ...       ...            ...        ...  \n",
       "1455      8   2007        WD         Normal     175000  \n",
       "1456      2   2010        WD         Normal     210000  \n",
       "1457      5   2010        WD         Normal     266500  \n",
       "1458      4   2010        WD         Normal     142125  \n",
       "1459      6   2008        WD         Normal     147500  \n",
       "\n",
       "[1460 rows x 81 columns]>"
      ]
     },
     "execution_count": 6,
     "metadata": {},
     "output_type": "execute_result"
    }
   ],
   "source": [
    "train.info"
   ]
  },
  {
   "cell_type": "markdown",
   "id": "21d76cbc",
   "metadata": {},
   "source": [
    "# Pre-processing"
   ]
  },
  {
   "cell_type": "code",
   "execution_count": 7,
   "id": "26486a52",
   "metadata": {
    "ExecuteTime": {
     "end_time": "2022-12-09T10:48:06.429564Z",
     "start_time": "2022-12-09T10:48:06.416615Z"
    }
   },
   "outputs": [],
   "source": [
    "# train and test data must have same preprocessing\n",
    "# combine train adn test data into 1 dataframe \n",
    "# for combining datasets of dataframes the number of variables\n",
    "# and the sequence of variables must be same\n",
    "\n",
    "\n",
    "# add dependend variable temprorily to test data"
   ]
  },
  {
   "cell_type": "code",
   "execution_count": 8,
   "id": "f07d0e1e",
   "metadata": {
    "ExecuteTime": {
     "end_time": "2022-12-09T10:48:06.445552Z",
     "start_time": "2022-12-09T10:48:06.435062Z"
    }
   },
   "outputs": [],
   "source": [
    "test['SalePrice'] = 'test'"
   ]
  },
  {
   "cell_type": "code",
   "execution_count": 9,
   "id": "35d71027",
   "metadata": {
    "ExecuteTime": {
     "end_time": "2022-12-09T10:48:06.461569Z",
     "start_time": "2022-12-09T10:48:06.448551Z"
    }
   },
   "outputs": [
    {
     "data": {
      "text/plain": [
       "(1459, 81)"
      ]
     },
     "execution_count": 9,
     "metadata": {},
     "output_type": "execute_result"
    }
   ],
   "source": [
    "test.shape"
   ]
  },
  {
   "cell_type": "code",
   "execution_count": 10,
   "id": "2b56ef8f",
   "metadata": {
    "ExecuteTime": {
     "end_time": "2022-12-09T10:48:06.497974Z",
     "start_time": "2022-12-09T10:48:06.470445Z"
    }
   },
   "outputs": [],
   "source": [
    "# concatinating bothe dataframes\n",
    "combineddf = pd.concat([train,test],axis=0)\n",
    "#axis = 0 refers to rows"
   ]
  },
  {
   "cell_type": "code",
   "execution_count": 11,
   "id": "7f09620c",
   "metadata": {
    "ExecuteTime": {
     "end_time": "2022-12-09T10:48:06.536281Z",
     "start_time": "2022-12-09T10:48:06.497974Z"
    }
   },
   "outputs": [
    {
     "data": {
      "text/plain": [
       "<bound method DataFrame.info of         Id  MSSubClass MSZoning  LotFrontage  LotArea Street Alley LotShape  \\\n",
       "0        1          60       RL         65.0     8450   Pave   NaN      Reg   \n",
       "1        2          20       RL         80.0     9600   Pave   NaN      Reg   \n",
       "2        3          60       RL         68.0    11250   Pave   NaN      IR1   \n",
       "3        4          70       RL         60.0     9550   Pave   NaN      IR1   \n",
       "4        5          60       RL         84.0    14260   Pave   NaN      IR1   \n",
       "...    ...         ...      ...          ...      ...    ...   ...      ...   \n",
       "1454  2915         160       RM         21.0     1936   Pave   NaN      Reg   \n",
       "1455  2916         160       RM         21.0     1894   Pave   NaN      Reg   \n",
       "1456  2917          20       RL        160.0    20000   Pave   NaN      Reg   \n",
       "1457  2918          85       RL         62.0    10441   Pave   NaN      Reg   \n",
       "1458  2919          60       RL         74.0     9627   Pave   NaN      Reg   \n",
       "\n",
       "     LandContour Utilities  ... PoolArea PoolQC  Fence MiscFeature MiscVal  \\\n",
       "0            Lvl    AllPub  ...        0    NaN    NaN         NaN       0   \n",
       "1            Lvl    AllPub  ...        0    NaN    NaN         NaN       0   \n",
       "2            Lvl    AllPub  ...        0    NaN    NaN         NaN       0   \n",
       "3            Lvl    AllPub  ...        0    NaN    NaN         NaN       0   \n",
       "4            Lvl    AllPub  ...        0    NaN    NaN         NaN       0   \n",
       "...          ...       ...  ...      ...    ...    ...         ...     ...   \n",
       "1454         Lvl    AllPub  ...        0    NaN    NaN         NaN       0   \n",
       "1455         Lvl    AllPub  ...        0    NaN    NaN         NaN       0   \n",
       "1456         Lvl    AllPub  ...        0    NaN    NaN         NaN       0   \n",
       "1457         Lvl    AllPub  ...        0    NaN  MnPrv        Shed     700   \n",
       "1458         Lvl    AllPub  ...        0    NaN    NaN         NaN       0   \n",
       "\n",
       "     MoSold YrSold  SaleType  SaleCondition  SalePrice  \n",
       "0         2   2008        WD         Normal     208500  \n",
       "1         5   2007        WD         Normal     181500  \n",
       "2         9   2008        WD         Normal     223500  \n",
       "3         2   2006        WD        Abnorml     140000  \n",
       "4        12   2008        WD         Normal     250000  \n",
       "...     ...    ...       ...            ...        ...  \n",
       "1454      6   2006        WD         Normal       test  \n",
       "1455      4   2006        WD        Abnorml       test  \n",
       "1456      9   2006        WD        Abnorml       test  \n",
       "1457      7   2006        WD         Normal       test  \n",
       "1458     11   2006        WD         Normal       test  \n",
       "\n",
       "[2919 rows x 81 columns]>"
      ]
     },
     "execution_count": 11,
     "metadata": {},
     "output_type": "execute_result"
    }
   ],
   "source": [
    "combineddf.info"
   ]
  },
  {
   "cell_type": "code",
   "execution_count": 12,
   "id": "e558f4c2",
   "metadata": {
    "ExecuteTime": {
     "end_time": "2022-12-09T10:48:06.601674Z",
     "start_time": "2022-12-09T10:48:06.537625Z"
    }
   },
   "outputs": [
    {
     "data": {
      "text/plain": [
       "PoolQC           2909\n",
       "MiscFeature      2814\n",
       "Alley            2721\n",
       "Fence            2348\n",
       "FireplaceQu      1420\n",
       "LotFrontage       486\n",
       "GarageFinish      159\n",
       "GarageQual        159\n",
       "GarageCond        159\n",
       "GarageYrBlt       159\n",
       "GarageType        157\n",
       "BsmtExposure       82\n",
       "BsmtCond           82\n",
       "BsmtQual           81\n",
       "BsmtFinType2       80\n",
       "BsmtFinType1       79\n",
       "MasVnrType         24\n",
       "MasVnrArea         23\n",
       "MSZoning            4\n",
       "Functional          2\n",
       "Utilities           2\n",
       "BsmtHalfBath        2\n",
       "BsmtFullBath        2\n",
       "GarageArea          1\n",
       "BsmtFinSF1          1\n",
       "SaleType            1\n",
       "GarageCars          1\n",
       "BsmtUnfSF           1\n",
       "Electrical          1\n",
       "Exterior2nd         1\n",
       "Exterior1st         1\n",
       "KitchenQual         1\n",
       "TotalBsmtSF         1\n",
       "BsmtFinSF2          1\n",
       "TotRmsAbvGrd        0\n",
       "Fireplaces          0\n",
       "Id                  0\n",
       "BedroomAbvGr        0\n",
       "PavedDrive          0\n",
       "WoodDeckSF          0\n",
       "OpenPorchSF         0\n",
       "EnclosedPorch       0\n",
       "3SsnPorch           0\n",
       "ScreenPorch         0\n",
       "PoolArea            0\n",
       "MiscVal             0\n",
       "MoSold              0\n",
       "YrSold              0\n",
       "SaleCondition       0\n",
       "KitchenAbvGr        0\n",
       "HeatingQC           0\n",
       "HalfBath            0\n",
       "FullBath            0\n",
       "LotArea             0\n",
       "Street              0\n",
       "LotShape            0\n",
       "LandContour         0\n",
       "LotConfig           0\n",
       "LandSlope           0\n",
       "Neighborhood        0\n",
       "Condition1          0\n",
       "Condition2          0\n",
       "BldgType            0\n",
       "HouseStyle          0\n",
       "OverallQual         0\n",
       "OverallCond         0\n",
       "YearBuilt           0\n",
       "YearRemodAdd        0\n",
       "RoofStyle           0\n",
       "RoofMatl            0\n",
       "ExterQual           0\n",
       "ExterCond           0\n",
       "Foundation          0\n",
       "Heating             0\n",
       "MSSubClass          0\n",
       "CentralAir          0\n",
       "1stFlrSF            0\n",
       "2ndFlrSF            0\n",
       "LowQualFinSF        0\n",
       "GrLivArea           0\n",
       "SalePrice           0\n",
       "dtype: int64"
      ]
     },
     "execution_count": 12,
     "metadata": {},
     "output_type": "execute_result"
    }
   ],
   "source": [
    "pd.set_option(\"display.max_rows\",82)\n",
    "combineddf.isnull().sum().sort_values(ascending = False)"
   ]
  },
  {
   "cell_type": "markdown",
   "id": "2f695129",
   "metadata": {},
   "source": [
    "# Split data into object and numeric"
   ]
  },
  {
   "cell_type": "code",
   "execution_count": 13,
   "id": "501b27a5",
   "metadata": {
    "ExecuteTime": {
     "end_time": "2022-12-09T10:48:06.617684Z",
     "start_time": "2022-12-09T10:48:06.604667Z"
    }
   },
   "outputs": [],
   "source": [
    "\n",
    "objectcols = combineddf.select_dtypes(include=['object'])\n",
    "numericcols = combineddf.select_dtypes(include=np.number)\n",
    "\n",
    "#np.number selects both int and float"
   ]
  },
  {
   "cell_type": "code",
   "execution_count": 14,
   "id": "2589f9e0",
   "metadata": {
    "ExecuteTime": {
     "end_time": "2022-12-09T10:48:06.637068Z",
     "start_time": "2022-12-09T10:48:06.621664Z"
    }
   },
   "outputs": [
    {
     "data": {
      "text/plain": [
       "(2919, 44)"
      ]
     },
     "execution_count": 14,
     "metadata": {},
     "output_type": "execute_result"
    }
   ],
   "source": [
    "objectcols.shape"
   ]
  },
  {
   "cell_type": "code",
   "execution_count": 15,
   "id": "9efeca12",
   "metadata": {
    "ExecuteTime": {
     "end_time": "2022-12-09T10:48:06.652836Z",
     "start_time": "2022-12-09T10:48:06.639635Z"
    }
   },
   "outputs": [
    {
     "data": {
      "text/plain": [
       "(2919, 37)"
      ]
     },
     "execution_count": 15,
     "metadata": {},
     "output_type": "execute_result"
    }
   ],
   "source": [
    "numericcols.shape"
   ]
  },
  {
   "cell_type": "markdown",
   "id": "40b1c9c9",
   "metadata": {},
   "source": [
    " missing values for numeric is mean and median and for objects mode and mode frequencies"
   ]
  },
  {
   "cell_type": "code",
   "execution_count": 16,
   "id": "29c4d214",
   "metadata": {
    "ExecuteTime": {
     "end_time": "2022-12-09T10:48:06.717308Z",
     "start_time": "2022-12-09T10:48:06.655927Z"
    }
   },
   "outputs": [
    {
     "data": {
      "text/plain": [
       "PoolQC           2909\n",
       "MiscFeature      2814\n",
       "Alley            2721\n",
       "Fence            2348\n",
       "FireplaceQu      1420\n",
       "GarageCond        159\n",
       "GarageQual        159\n",
       "GarageFinish      159\n",
       "GarageType        157\n",
       "BsmtCond           82\n",
       "BsmtExposure       82\n",
       "BsmtQual           81\n",
       "BsmtFinType2       80\n",
       "BsmtFinType1       79\n",
       "MasVnrType         24\n",
       "MSZoning            4\n",
       "Utilities           2\n",
       "Functional          2\n",
       "Exterior2nd         1\n",
       "Electrical          1\n",
       "SaleType            1\n",
       "Exterior1st         1\n",
       "KitchenQual         1\n",
       "RoofStyle           0\n",
       "Neighborhood        0\n",
       "SaleCondition       0\n",
       "ExterQual           0\n",
       "LotShape            0\n",
       "LandContour         0\n",
       "ExterCond           0\n",
       "PavedDrive          0\n",
       "LotConfig           0\n",
       "LandSlope           0\n",
       "Condition1          0\n",
       "HouseStyle          0\n",
       "Condition2          0\n",
       "Foundation          0\n",
       "RoofMatl            0\n",
       "Street              0\n",
       "CentralAir          0\n",
       "HeatingQC           0\n",
       "Heating             0\n",
       "BldgType            0\n",
       "SalePrice           0\n",
       "dtype: int64"
      ]
     },
     "execution_count": 16,
     "metadata": {},
     "output_type": "execute_result"
    }
   ],
   "source": [
    "objectcols.isnull().sum().sort_values(ascending = False)"
   ]
  },
  {
   "cell_type": "markdown",
   "id": "c0c1a386",
   "metadata": {},
   "source": [
    " \n"
   ]
  },
  {
   "cell_type": "markdown",
   "id": "9d9a00a2",
   "metadata": {},
   "source": [
    " "
   ]
  },
  {
   "cell_type": "markdown",
   "id": "0e6eb246",
   "metadata": {
    "ExecuteTime": {
     "end_time": "2022-12-09T10:48:06.737578Z",
     "start_time": "2022-12-09T10:48:06.717308Z"
    }
   },
   "source": [
    "- if missing values are more then 70% of the column impute with the word missing or not available\n",
    "- if missing values are less then 70% \n",
    "- numeric -- use mean and median \n",
    "- objects -- Use mode or most frequent\n"
   ]
  },
  {
   "cell_type": "code",
   "execution_count": 18,
   "id": "1501557e",
   "metadata": {
    "ExecuteTime": {
     "end_time": "2022-12-09T10:48:06.797703Z",
     "start_time": "2022-12-09T10:48:06.738857Z"
    }
   },
   "outputs": [
    {
     "data": {
      "text/plain": [
       "PoolQC           99.657417\n",
       "MiscFeature      96.402878\n",
       "Alley            93.216855\n",
       "Fence            80.438506\n",
       "FireplaceQu      48.646797\n",
       "GarageCond        5.447071\n",
       "GarageQual        5.447071\n",
       "GarageFinish      5.447071\n",
       "GarageType        5.378554\n",
       "BsmtCond          2.809181\n",
       "BsmtExposure      2.809181\n",
       "BsmtQual          2.774923\n",
       "BsmtFinType2      2.740665\n",
       "BsmtFinType1      2.706406\n",
       "MasVnrType        0.822199\n",
       "MSZoning          0.137033\n",
       "Utilities         0.068517\n",
       "Functional        0.068517\n",
       "Exterior2nd       0.034258\n",
       "Electrical        0.034258\n",
       "SaleType          0.034258\n",
       "Exterior1st       0.034258\n",
       "KitchenQual       0.034258\n",
       "RoofStyle         0.000000\n",
       "Neighborhood      0.000000\n",
       "SaleCondition     0.000000\n",
       "ExterQual         0.000000\n",
       "LotShape          0.000000\n",
       "LandContour       0.000000\n",
       "ExterCond         0.000000\n",
       "PavedDrive        0.000000\n",
       "LotConfig         0.000000\n",
       "LandSlope         0.000000\n",
       "Condition1        0.000000\n",
       "HouseStyle        0.000000\n",
       "Condition2        0.000000\n",
       "Foundation        0.000000\n",
       "RoofMatl          0.000000\n",
       "Street            0.000000\n",
       "CentralAir        0.000000\n",
       "HeatingQC         0.000000\n",
       "Heating           0.000000\n",
       "BldgType          0.000000\n",
       "SalePrice         0.000000\n",
       "dtype: float64"
      ]
     },
     "execution_count": 18,
     "metadata": {},
     "output_type": "execute_result"
    }
   ],
   "source": [
    "(objectcols.isnull().sum().sort_values(\n",
    "    ascending = False)/objectcols.shape[0])*100"
   ]
  },
  {
   "cell_type": "markdown",
   "id": "4234852a",
   "metadata": {},
   "source": [
    "# Working With Object Columns"
   ]
  },
  {
   "cell_type": "code",
   "execution_count": 19,
   "id": "9998a194",
   "metadata": {
    "ExecuteTime": {
     "end_time": "2022-12-09T10:48:06.816661Z",
     "start_time": "2022-12-09T10:48:06.798713Z"
    }
   },
   "outputs": [
    {
     "data": {
      "text/plain": [
       "Index(['MSZoning', 'Street', 'Alley', 'LotShape', 'LandContour', 'Utilities',\n",
       "       'LotConfig', 'LandSlope', 'Neighborhood', 'Condition1', 'Condition2',\n",
       "       'BldgType', 'HouseStyle', 'RoofStyle', 'RoofMatl', 'Exterior1st',\n",
       "       'Exterior2nd', 'MasVnrType', 'ExterQual', 'ExterCond', 'Foundation',\n",
       "       'BsmtQual', 'BsmtCond', 'BsmtExposure', 'BsmtFinType1', 'BsmtFinType2',\n",
       "       'Heating', 'HeatingQC', 'CentralAir', 'Electrical', 'KitchenQual',\n",
       "       'Functional', 'FireplaceQu', 'GarageType', 'GarageFinish', 'GarageQual',\n",
       "       'GarageCond', 'PavedDrive', 'PoolQC', 'Fence', 'MiscFeature',\n",
       "       'SaleType', 'SaleCondition', 'SalePrice'],\n",
       "      dtype='object')"
      ]
     },
     "execution_count": 19,
     "metadata": {},
     "output_type": "execute_result"
    }
   ],
   "source": [
    "objectcols.columns"
   ]
  },
  {
   "cell_type": "code",
   "execution_count": 20,
   "id": "7d7a8527",
   "metadata": {
    "ExecuteTime": {
     "end_time": "2022-12-09T10:48:06.831831Z",
     "start_time": "2022-12-09T10:48:06.820677Z"
    }
   },
   "outputs": [],
   "source": [
    "not_available = ['Alley','FireplaceQu','MiscFeature','Fence','PoolQC']"
   ]
  },
  {
   "cell_type": "markdown",
   "id": "53b64542",
   "metadata": {},
   "source": [
    "- **Filling Missing Values as Not_available**"
   ]
  },
  {
   "cell_type": "code",
   "execution_count": 21,
   "id": "ee48c5e7",
   "metadata": {
    "ExecuteTime": {
     "end_time": "2022-12-09T10:48:06.863441Z",
     "start_time": "2022-12-09T10:48:06.836264Z"
    }
   },
   "outputs": [],
   "source": [
    "for col in not_available:\n",
    "    objectcols[col] = objectcols[col].fillna(\"NotAvailable\")\n",
    "    \n",
    "# in real time you have to do loops to fill missing values\n",
    "    "
   ]
  },
  {
   "cell_type": "code",
   "execution_count": 22,
   "id": "79486178",
   "metadata": {
    "ExecuteTime": {
     "end_time": "2022-12-09T10:48:06.878840Z",
     "start_time": "2022-12-09T10:48:06.866448Z"
    }
   },
   "outputs": [
    {
     "data": {
      "text/plain": [
       "['GarageType', 'GarageFinish', 'GarageQual', 'GarageCond']"
      ]
     },
     "execution_count": 22,
     "metadata": {},
     "output_type": "execute_result"
    }
   ],
   "source": [
    "garage_cols = [col for col in objectcols if col.startswith('Gar')]\n",
    "garage_cols"
   ]
  },
  {
   "cell_type": "code",
   "execution_count": 23,
   "id": "4024dd43",
   "metadata": {
    "ExecuteTime": {
     "end_time": "2022-12-09T10:48:06.911528Z",
     "start_time": "2022-12-09T10:48:06.884286Z"
    }
   },
   "outputs": [
    {
     "name": "stdout",
     "output_type": "stream",
     "text": [
      "Attchd     1723\n",
      "Detchd      779\n",
      "BuiltIn     186\n",
      "NaN         157\n",
      "Basment      36\n",
      "2Types       23\n",
      "CarPort      15\n",
      "Name: GarageType, dtype: int64\n",
      "Unf    1230\n",
      "RFn     811\n",
      "Fin     719\n",
      "NaN     159\n",
      "Name: GarageFinish, dtype: int64\n",
      "TA     2604\n",
      "NaN     159\n",
      "Fa      124\n",
      "Gd       24\n",
      "Po        5\n",
      "Ex        3\n",
      "Name: GarageQual, dtype: int64\n",
      "TA     2654\n",
      "NaN     159\n",
      "Fa       74\n",
      "Gd       15\n",
      "Po       14\n",
      "Ex        3\n",
      "Name: GarageCond, dtype: int64\n"
     ]
    }
   ],
   "source": [
    "for col in garage_cols:\n",
    "    freq = objectcols[col].value_counts(dropna = False)\n",
    "    print(freq)"
   ]
  },
  {
   "cell_type": "code",
   "execution_count": 24,
   "id": "2fd521e9",
   "metadata": {
    "ExecuteTime": {
     "end_time": "2022-12-09T10:48:06.927079Z",
     "start_time": "2022-12-09T10:48:06.914697Z"
    }
   },
   "outputs": [
    {
     "data": {
      "text/plain": [
       "['BsmtQual', 'BsmtCond', 'BsmtExposure', 'BsmtFinType1', 'BsmtFinType2']"
      ]
     },
     "execution_count": 24,
     "metadata": {},
     "output_type": "execute_result"
    }
   ],
   "source": [
    "Bsmt_cols = [col for col in objectcols if col.startswith('Bsmt')]\n",
    "Bsmt_cols"
   ]
  },
  {
   "cell_type": "code",
   "execution_count": 25,
   "id": "1f4d11c1",
   "metadata": {
    "ExecuteTime": {
     "end_time": "2022-12-09T10:48:06.961509Z",
     "start_time": "2022-12-09T10:48:06.931487Z"
    }
   },
   "outputs": [
    {
     "name": "stdout",
     "output_type": "stream",
     "text": [
      "TA     1283\n",
      "Gd     1209\n",
      "Ex      258\n",
      "Fa       88\n",
      "NaN      81\n",
      "Name: BsmtQual, dtype: int64\n",
      "TA     2606\n",
      "Gd      122\n",
      "Fa      104\n",
      "NaN      82\n",
      "Po        5\n",
      "Name: BsmtCond, dtype: int64\n",
      "No     1904\n",
      "Av      418\n",
      "Gd      276\n",
      "Mn      239\n",
      "NaN      82\n",
      "Name: BsmtExposure, dtype: int64\n",
      "Unf    851\n",
      "GLQ    849\n",
      "ALQ    429\n",
      "Rec    288\n",
      "BLQ    269\n",
      "LwQ    154\n",
      "NaN     79\n",
      "Name: BsmtFinType1, dtype: int64\n",
      "Unf    2493\n",
      "Rec     105\n",
      "LwQ      87\n",
      "NaN      80\n",
      "BLQ      68\n",
      "ALQ      52\n",
      "GLQ      34\n",
      "Name: BsmtFinType2, dtype: int64\n"
     ]
    }
   ],
   "source": [
    "for col in Bsmt_cols:\n",
    "    freq = objectcols[col].value_counts(dropna = False)\n",
    "    print(freq)"
   ]
  },
  {
   "cell_type": "markdown",
   "id": "5c5efa29",
   "metadata": {},
   "source": [
    "frequency will decide that can we do mode imputation or not for missing values\n",
    "\n",
    "Based on the freq analysis mode or most frequent imputation can be done for all missing values in object_cols"
   ]
  },
  {
   "cell_type": "markdown",
   "id": "84ed6627",
   "metadata": {},
   "source": [
    "# Filling missing values with high frequency name using idxmax()"
   ]
  },
  {
   "cell_type": "code",
   "execution_count": 26,
   "id": "6effe7fd",
   "metadata": {
    "ExecuteTime": {
     "end_time": "2022-12-09T10:48:07.082681Z",
     "start_time": "2022-12-09T10:48:06.966289Z"
    }
   },
   "outputs": [],
   "source": [
    "for col in objectcols.columns:\n",
    "    objectcols[col] = objectcols[col].fillna(\n",
    "    objectcols[col].value_counts().idxmax())\n",
    "    \n",
    "    # idxmax() - identifies the max frequency categoryname & uses it for imputation"
   ]
  },
  {
   "cell_type": "markdown",
   "id": "ba4eb9e9",
   "metadata": {},
   "source": [
    " "
   ]
  },
  {
   "cell_type": "markdown",
   "id": "8950e54f",
   "metadata": {},
   "source": [
    " "
   ]
  },
  {
   "cell_type": "markdown",
   "id": "0fb0ce46",
   "metadata": {},
   "source": [
    " "
   ]
  },
  {
   "cell_type": "markdown",
   "id": "2105e101",
   "metadata": {},
   "source": [
    "# working with Numeric columns"
   ]
  },
  {
   "cell_type": "code",
   "execution_count": 27,
   "id": "8afafadf",
   "metadata": {
    "ExecuteTime": {
     "end_time": "2022-12-09T10:48:07.098088Z",
     "start_time": "2022-12-09T10:48:07.082681Z"
    }
   },
   "outputs": [
    {
     "data": {
      "text/plain": [
       "Index(['Id', 'MSSubClass', 'LotFrontage', 'LotArea', 'OverallQual',\n",
       "       'OverallCond', 'YearBuilt', 'YearRemodAdd', 'MasVnrArea', 'BsmtFinSF1',\n",
       "       'BsmtFinSF2', 'BsmtUnfSF', 'TotalBsmtSF', '1stFlrSF', '2ndFlrSF',\n",
       "       'LowQualFinSF', 'GrLivArea', 'BsmtFullBath', 'BsmtHalfBath', 'FullBath',\n",
       "       'HalfBath', 'BedroomAbvGr', 'KitchenAbvGr', 'TotRmsAbvGrd',\n",
       "       'Fireplaces', 'GarageYrBlt', 'GarageCars', 'GarageArea', 'WoodDeckSF',\n",
       "       'OpenPorchSF', 'EnclosedPorch', '3SsnPorch', 'ScreenPorch', 'PoolArea',\n",
       "       'MiscVal', 'MoSold', 'YrSold'],\n",
       "      dtype='object')"
      ]
     },
     "execution_count": 27,
     "metadata": {},
     "output_type": "execute_result"
    }
   ],
   "source": [
    "numericcols.columns\n",
    "\n",
    "#within numericcols their might be categorical cols like date \n",
    "#ratings , dummyencoded (0/1), etc\n",
    "# we need to seperate categorical cols within the num cols into seperate dataframes\n"
   ]
  },
  {
   "cell_type": "markdown",
   "id": "0b4df41a",
   "metadata": {
    "ExecuteTime": {
     "end_time": "2022-12-09T11:07:16.062462Z",
     "start_time": "2022-12-09T11:07:16.050576Z"
    }
   },
   "source": [
    "# Extracting categorical columns"
   ]
  },
  {
   "cell_type": "code",
   "execution_count": 28,
   "id": "eda973c9",
   "metadata": {
    "ExecuteTime": {
     "end_time": "2022-12-09T10:48:07.134482Z",
     "start_time": "2022-12-09T10:48:07.115192Z"
    }
   },
   "outputs": [],
   "source": [
    "category_cols = numericcols[['OverallQual',\n",
    "       'OverallCond', 'YearBuilt', 'YearRemodAdd','GarageYrBlt','MoSold', 'YrSold']]"
   ]
  },
  {
   "cell_type": "code",
   "execution_count": 29,
   "id": "c4af6429",
   "metadata": {
    "ExecuteTime": {
     "end_time": "2022-12-09T10:48:07.150082Z",
     "start_time": "2022-12-09T10:48:07.139590Z"
    }
   },
   "outputs": [],
   "source": [
    "numericcols = numericcols.drop(['OverallQual',\n",
    "       'OverallCond', 'YearBuilt', 'YearRemodAdd','GarageYrBlt','MoSold', 'YrSold'],axis=1)"
   ]
  },
  {
   "cell_type": "code",
   "execution_count": 30,
   "id": "6f6cd7fc",
   "metadata": {
    "ExecuteTime": {
     "end_time": "2022-12-09T10:48:07.165298Z",
     "start_time": "2022-12-09T10:48:07.153086Z"
    }
   },
   "outputs": [
    {
     "name": "stdout",
     "output_type": "stream",
     "text": [
      "(2919, 30)\n",
      "(2919, 44)\n",
      "(2919, 7)\n"
     ]
    }
   ],
   "source": [
    "print(numericcols.shape)\n",
    "print(objectcols.shape)\n",
    "print(category_cols.shape)"
   ]
  },
  {
   "cell_type": "code",
   "execution_count": 31,
   "id": "79149a0a",
   "metadata": {
    "ExecuteTime": {
     "end_time": "2022-12-09T10:48:07.188591Z",
     "start_time": "2022-12-09T10:48:07.169969Z"
    }
   },
   "outputs": [
    {
     "data": {
      "text/plain": [
       "GarageYrBlt     159\n",
       "OverallQual       0\n",
       "OverallCond       0\n",
       "YearBuilt         0\n",
       "YearRemodAdd      0\n",
       "MoSold            0\n",
       "YrSold            0\n",
       "dtype: int64"
      ]
     },
     "execution_count": 31,
     "metadata": {},
     "output_type": "execute_result"
    }
   ],
   "source": [
    "category_cols.isnull().sum().sort_values(ascending = False)"
   ]
  },
  {
   "cell_type": "code",
   "execution_count": 32,
   "id": "fb33883a",
   "metadata": {
    "ExecuteTime": {
     "end_time": "2022-12-09T10:48:07.215032Z",
     "start_time": "2022-12-09T10:48:07.191155Z"
    }
   },
   "outputs": [],
   "source": [
    "category_cols.GarageYrBlt=category_cols.GarageYrBlt.fillna(\n",
    "category_cols.GarageYrBlt.value_counts().idxmax())"
   ]
  },
  {
   "cell_type": "code",
   "execution_count": 33,
   "id": "23529a4e",
   "metadata": {
    "ExecuteTime": {
     "end_time": "2022-12-09T10:48:07.237947Z",
     "start_time": "2022-12-09T10:48:07.219318Z"
    }
   },
   "outputs": [
    {
     "data": {
      "text/plain": [
       "LotFrontage      486\n",
       "MasVnrArea        23\n",
       "BsmtFullBath       2\n",
       "BsmtHalfBath       2\n",
       "GarageCars         1\n",
       "BsmtFinSF1         1\n",
       "BsmtFinSF2         1\n",
       "BsmtUnfSF          1\n",
       "TotalBsmtSF        1\n",
       "GarageArea         1\n",
       "Id                 0\n",
       "WoodDeckSF         0\n",
       "ScreenPorch        0\n",
       "OpenPorchSF        0\n",
       "EnclosedPorch      0\n",
       "3SsnPorch          0\n",
       "TotRmsAbvGrd       0\n",
       "PoolArea           0\n",
       "Fireplaces         0\n",
       "FullBath           0\n",
       "KitchenAbvGr       0\n",
       "BedroomAbvGr       0\n",
       "HalfBath           0\n",
       "MSSubClass         0\n",
       "GrLivArea          0\n",
       "LowQualFinSF       0\n",
       "2ndFlrSF           0\n",
       "1stFlrSF           0\n",
       "LotArea            0\n",
       "MiscVal            0\n",
       "dtype: int64"
      ]
     },
     "execution_count": 33,
     "metadata": {},
     "output_type": "execute_result"
    }
   ],
   "source": [
    "numericcols.isnull().sum().sort_values(ascending=False)"
   ]
  },
  {
   "cell_type": "markdown",
   "id": "4beb0035",
   "metadata": {},
   "source": [
    "# Imputing missing values with median"
   ]
  },
  {
   "cell_type": "code",
   "execution_count": 34,
   "id": "bf7efe2c",
   "metadata": {
    "ExecuteTime": {
     "end_time": "2022-12-09T10:48:07.293124Z",
     "start_time": "2022-12-09T10:48:07.242238Z"
    }
   },
   "outputs": [],
   "source": [
    "# small number of missing values are there so we can impute with median\n",
    "\n",
    "for col in numericcols.columns:\n",
    "    numericcols[col] = numericcols[col].fillna(numericcols[col].median())"
   ]
  },
  {
   "cell_type": "code",
   "execution_count": 35,
   "id": "e3347c41",
   "metadata": {
    "ExecuteTime": {
     "end_time": "2022-12-09T10:48:07.338354Z",
     "start_time": "2022-12-09T10:48:07.297838Z"
    }
   },
   "outputs": [
    {
     "data": {
      "text/html": [
       "<div>\n",
       "<style scoped>\n",
       "    .dataframe tbody tr th:only-of-type {\n",
       "        vertical-align: middle;\n",
       "    }\n",
       "\n",
       "    .dataframe tbody tr th {\n",
       "        vertical-align: top;\n",
       "    }\n",
       "\n",
       "    .dataframe thead th {\n",
       "        text-align: right;\n",
       "    }\n",
       "</style>\n",
       "<table border=\"1\" class=\"dataframe\">\n",
       "  <thead>\n",
       "    <tr style=\"text-align: right;\">\n",
       "      <th></th>\n",
       "      <th>MSZoning</th>\n",
       "      <th>Street</th>\n",
       "      <th>Alley</th>\n",
       "      <th>LotShape</th>\n",
       "      <th>LandContour</th>\n",
       "      <th>Utilities</th>\n",
       "      <th>LotConfig</th>\n",
       "      <th>LandSlope</th>\n",
       "      <th>Neighborhood</th>\n",
       "      <th>Condition1</th>\n",
       "      <th>...</th>\n",
       "      <th>GarageFinish</th>\n",
       "      <th>GarageQual</th>\n",
       "      <th>GarageCond</th>\n",
       "      <th>PavedDrive</th>\n",
       "      <th>PoolQC</th>\n",
       "      <th>Fence</th>\n",
       "      <th>MiscFeature</th>\n",
       "      <th>SaleType</th>\n",
       "      <th>SaleCondition</th>\n",
       "      <th>SalePrice</th>\n",
       "    </tr>\n",
       "  </thead>\n",
       "  <tbody>\n",
       "    <tr>\n",
       "      <th>0</th>\n",
       "      <td>RL</td>\n",
       "      <td>Pave</td>\n",
       "      <td>NotAvailable</td>\n",
       "      <td>Reg</td>\n",
       "      <td>Lvl</td>\n",
       "      <td>AllPub</td>\n",
       "      <td>Inside</td>\n",
       "      <td>Gtl</td>\n",
       "      <td>CollgCr</td>\n",
       "      <td>Norm</td>\n",
       "      <td>...</td>\n",
       "      <td>RFn</td>\n",
       "      <td>TA</td>\n",
       "      <td>TA</td>\n",
       "      <td>Y</td>\n",
       "      <td>NotAvailable</td>\n",
       "      <td>NotAvailable</td>\n",
       "      <td>NotAvailable</td>\n",
       "      <td>WD</td>\n",
       "      <td>Normal</td>\n",
       "      <td>208500</td>\n",
       "    </tr>\n",
       "    <tr>\n",
       "      <th>1</th>\n",
       "      <td>RL</td>\n",
       "      <td>Pave</td>\n",
       "      <td>NotAvailable</td>\n",
       "      <td>Reg</td>\n",
       "      <td>Lvl</td>\n",
       "      <td>AllPub</td>\n",
       "      <td>FR2</td>\n",
       "      <td>Gtl</td>\n",
       "      <td>Veenker</td>\n",
       "      <td>Feedr</td>\n",
       "      <td>...</td>\n",
       "      <td>RFn</td>\n",
       "      <td>TA</td>\n",
       "      <td>TA</td>\n",
       "      <td>Y</td>\n",
       "      <td>NotAvailable</td>\n",
       "      <td>NotAvailable</td>\n",
       "      <td>NotAvailable</td>\n",
       "      <td>WD</td>\n",
       "      <td>Normal</td>\n",
       "      <td>181500</td>\n",
       "    </tr>\n",
       "    <tr>\n",
       "      <th>2</th>\n",
       "      <td>RL</td>\n",
       "      <td>Pave</td>\n",
       "      <td>NotAvailable</td>\n",
       "      <td>IR1</td>\n",
       "      <td>Lvl</td>\n",
       "      <td>AllPub</td>\n",
       "      <td>Inside</td>\n",
       "      <td>Gtl</td>\n",
       "      <td>CollgCr</td>\n",
       "      <td>Norm</td>\n",
       "      <td>...</td>\n",
       "      <td>RFn</td>\n",
       "      <td>TA</td>\n",
       "      <td>TA</td>\n",
       "      <td>Y</td>\n",
       "      <td>NotAvailable</td>\n",
       "      <td>NotAvailable</td>\n",
       "      <td>NotAvailable</td>\n",
       "      <td>WD</td>\n",
       "      <td>Normal</td>\n",
       "      <td>223500</td>\n",
       "    </tr>\n",
       "    <tr>\n",
       "      <th>3</th>\n",
       "      <td>RL</td>\n",
       "      <td>Pave</td>\n",
       "      <td>NotAvailable</td>\n",
       "      <td>IR1</td>\n",
       "      <td>Lvl</td>\n",
       "      <td>AllPub</td>\n",
       "      <td>Corner</td>\n",
       "      <td>Gtl</td>\n",
       "      <td>Crawfor</td>\n",
       "      <td>Norm</td>\n",
       "      <td>...</td>\n",
       "      <td>Unf</td>\n",
       "      <td>TA</td>\n",
       "      <td>TA</td>\n",
       "      <td>Y</td>\n",
       "      <td>NotAvailable</td>\n",
       "      <td>NotAvailable</td>\n",
       "      <td>NotAvailable</td>\n",
       "      <td>WD</td>\n",
       "      <td>Abnorml</td>\n",
       "      <td>140000</td>\n",
       "    </tr>\n",
       "    <tr>\n",
       "      <th>4</th>\n",
       "      <td>RL</td>\n",
       "      <td>Pave</td>\n",
       "      <td>NotAvailable</td>\n",
       "      <td>IR1</td>\n",
       "      <td>Lvl</td>\n",
       "      <td>AllPub</td>\n",
       "      <td>FR2</td>\n",
       "      <td>Gtl</td>\n",
       "      <td>NoRidge</td>\n",
       "      <td>Norm</td>\n",
       "      <td>...</td>\n",
       "      <td>RFn</td>\n",
       "      <td>TA</td>\n",
       "      <td>TA</td>\n",
       "      <td>Y</td>\n",
       "      <td>NotAvailable</td>\n",
       "      <td>NotAvailable</td>\n",
       "      <td>NotAvailable</td>\n",
       "      <td>WD</td>\n",
       "      <td>Normal</td>\n",
       "      <td>250000</td>\n",
       "    </tr>\n",
       "  </tbody>\n",
       "</table>\n",
       "<p>5 rows × 44 columns</p>\n",
       "</div>"
      ],
      "text/plain": [
       "  MSZoning Street         Alley LotShape LandContour Utilities LotConfig  \\\n",
       "0       RL   Pave  NotAvailable      Reg         Lvl    AllPub    Inside   \n",
       "1       RL   Pave  NotAvailable      Reg         Lvl    AllPub       FR2   \n",
       "2       RL   Pave  NotAvailable      IR1         Lvl    AllPub    Inside   \n",
       "3       RL   Pave  NotAvailable      IR1         Lvl    AllPub    Corner   \n",
       "4       RL   Pave  NotAvailable      IR1         Lvl    AllPub       FR2   \n",
       "\n",
       "  LandSlope Neighborhood Condition1  ... GarageFinish GarageQual GarageCond  \\\n",
       "0       Gtl      CollgCr       Norm  ...          RFn         TA         TA   \n",
       "1       Gtl      Veenker      Feedr  ...          RFn         TA         TA   \n",
       "2       Gtl      CollgCr       Norm  ...          RFn         TA         TA   \n",
       "3       Gtl      Crawfor       Norm  ...          Unf         TA         TA   \n",
       "4       Gtl      NoRidge       Norm  ...          RFn         TA         TA   \n",
       "\n",
       "  PavedDrive        PoolQC         Fence   MiscFeature SaleType SaleCondition  \\\n",
       "0          Y  NotAvailable  NotAvailable  NotAvailable       WD        Normal   \n",
       "1          Y  NotAvailable  NotAvailable  NotAvailable       WD        Normal   \n",
       "2          Y  NotAvailable  NotAvailable  NotAvailable       WD        Normal   \n",
       "3          Y  NotAvailable  NotAvailable  NotAvailable       WD       Abnorml   \n",
       "4          Y  NotAvailable  NotAvailable  NotAvailable       WD        Normal   \n",
       "\n",
       "  SalePrice  \n",
       "0    208500  \n",
       "1    181500  \n",
       "2    223500  \n",
       "3    140000  \n",
       "4    250000  \n",
       "\n",
       "[5 rows x 44 columns]"
      ]
     },
     "execution_count": 35,
     "metadata": {},
     "output_type": "execute_result"
    }
   ],
   "source": [
    "# Dummy variables encoding or label encoding of \n",
    "#object & category cols\n",
    "\n",
    "objectcols.head()"
   ]
  },
  {
   "cell_type": "markdown",
   "id": "b80a28d8",
   "metadata": {},
   "source": [
    "# Encoding the categorical Columns"
   ]
  },
  {
   "cell_type": "code",
   "execution_count": 36,
   "id": "2c46ff2e",
   "metadata": {
    "ExecuteTime": {
     "end_time": "2022-12-09T10:48:12.226975Z",
     "start_time": "2022-12-09T10:48:07.338354Z"
    }
   },
   "outputs": [],
   "source": [
    "from sklearn.preprocessing import LabelEncoder"
   ]
  },
  {
   "cell_type": "code",
   "execution_count": 37,
   "id": "7c7caa66",
   "metadata": {
    "ExecuteTime": {
     "end_time": "2022-12-09T10:48:12.242753Z",
     "start_time": "2022-12-09T10:48:12.228514Z"
    }
   },
   "outputs": [],
   "source": [
    "lr = LabelEncoder()"
   ]
  },
  {
   "cell_type": "code",
   "execution_count": 38,
   "id": "3081562c",
   "metadata": {
    "ExecuteTime": {
     "end_time": "2022-12-09T10:48:12.258403Z",
     "start_time": "2022-12-09T10:48:12.245039Z"
    }
   },
   "outputs": [],
   "source": [
    "numericcols['SalePrice']=objectcols.SalePrice"
   ]
  },
  {
   "cell_type": "code",
   "execution_count": 39,
   "id": "16ffc042",
   "metadata": {
    "ExecuteTime": {
     "end_time": "2022-12-09T10:48:12.289146Z",
     "start_time": "2022-12-09T10:48:12.263016Z"
    }
   },
   "outputs": [],
   "source": [
    "objectcols = objectcols.drop('SalePrice',axis=1)"
   ]
  },
  {
   "cell_type": "code",
   "execution_count": 40,
   "id": "b63aa191",
   "metadata": {
    "ExecuteTime": {
     "end_time": "2022-12-09T10:48:12.357052Z",
     "start_time": "2022-12-09T10:48:12.292052Z"
    }
   },
   "outputs": [],
   "source": [
    "objectcols_encoded = objectcols.apply(lr.fit_transform)"
   ]
  },
  {
   "cell_type": "code",
   "execution_count": 41,
   "id": "37eaf931",
   "metadata": {
    "ExecuteTime": {
     "end_time": "2022-12-09T10:48:12.396362Z",
     "start_time": "2022-12-09T10:48:12.357052Z"
    }
   },
   "outputs": [],
   "source": [
    "category_cols_encoded = category_cols.apply(lr.fit_transform)"
   ]
  },
  {
   "cell_type": "code",
   "execution_count": 42,
   "id": "3c3c1b87",
   "metadata": {
    "ExecuteTime": {
     "end_time": "2022-12-09T10:48:12.456441Z",
     "start_time": "2022-12-09T10:48:12.396362Z"
    }
   },
   "outputs": [
    {
     "data": {
      "text/html": [
       "<div>\n",
       "<style scoped>\n",
       "    .dataframe tbody tr th:only-of-type {\n",
       "        vertical-align: middle;\n",
       "    }\n",
       "\n",
       "    .dataframe tbody tr th {\n",
       "        vertical-align: top;\n",
       "    }\n",
       "\n",
       "    .dataframe thead th {\n",
       "        text-align: right;\n",
       "    }\n",
       "</style>\n",
       "<table border=\"1\" class=\"dataframe\">\n",
       "  <thead>\n",
       "    <tr style=\"text-align: right;\">\n",
       "      <th></th>\n",
       "      <th>Id</th>\n",
       "      <th>MSSubClass</th>\n",
       "      <th>LotFrontage</th>\n",
       "      <th>LotArea</th>\n",
       "      <th>MasVnrArea</th>\n",
       "      <th>BsmtFinSF1</th>\n",
       "      <th>BsmtFinSF2</th>\n",
       "      <th>BsmtUnfSF</th>\n",
       "      <th>TotalBsmtSF</th>\n",
       "      <th>1stFlrSF</th>\n",
       "      <th>...</th>\n",
       "      <th>GarageCars</th>\n",
       "      <th>GarageArea</th>\n",
       "      <th>WoodDeckSF</th>\n",
       "      <th>OpenPorchSF</th>\n",
       "      <th>EnclosedPorch</th>\n",
       "      <th>3SsnPorch</th>\n",
       "      <th>ScreenPorch</th>\n",
       "      <th>PoolArea</th>\n",
       "      <th>MiscVal</th>\n",
       "      <th>SalePrice</th>\n",
       "    </tr>\n",
       "  </thead>\n",
       "  <tbody>\n",
       "    <tr>\n",
       "      <th>0</th>\n",
       "      <td>1</td>\n",
       "      <td>60</td>\n",
       "      <td>65.0</td>\n",
       "      <td>8450</td>\n",
       "      <td>196.0</td>\n",
       "      <td>706.0</td>\n",
       "      <td>0.0</td>\n",
       "      <td>150.0</td>\n",
       "      <td>856.0</td>\n",
       "      <td>856</td>\n",
       "      <td>...</td>\n",
       "      <td>2.0</td>\n",
       "      <td>548.0</td>\n",
       "      <td>0</td>\n",
       "      <td>61</td>\n",
       "      <td>0</td>\n",
       "      <td>0</td>\n",
       "      <td>0</td>\n",
       "      <td>0</td>\n",
       "      <td>0</td>\n",
       "      <td>208500</td>\n",
       "    </tr>\n",
       "    <tr>\n",
       "      <th>1</th>\n",
       "      <td>2</td>\n",
       "      <td>20</td>\n",
       "      <td>80.0</td>\n",
       "      <td>9600</td>\n",
       "      <td>0.0</td>\n",
       "      <td>978.0</td>\n",
       "      <td>0.0</td>\n",
       "      <td>284.0</td>\n",
       "      <td>1262.0</td>\n",
       "      <td>1262</td>\n",
       "      <td>...</td>\n",
       "      <td>2.0</td>\n",
       "      <td>460.0</td>\n",
       "      <td>298</td>\n",
       "      <td>0</td>\n",
       "      <td>0</td>\n",
       "      <td>0</td>\n",
       "      <td>0</td>\n",
       "      <td>0</td>\n",
       "      <td>0</td>\n",
       "      <td>181500</td>\n",
       "    </tr>\n",
       "    <tr>\n",
       "      <th>2</th>\n",
       "      <td>3</td>\n",
       "      <td>60</td>\n",
       "      <td>68.0</td>\n",
       "      <td>11250</td>\n",
       "      <td>162.0</td>\n",
       "      <td>486.0</td>\n",
       "      <td>0.0</td>\n",
       "      <td>434.0</td>\n",
       "      <td>920.0</td>\n",
       "      <td>920</td>\n",
       "      <td>...</td>\n",
       "      <td>2.0</td>\n",
       "      <td>608.0</td>\n",
       "      <td>0</td>\n",
       "      <td>42</td>\n",
       "      <td>0</td>\n",
       "      <td>0</td>\n",
       "      <td>0</td>\n",
       "      <td>0</td>\n",
       "      <td>0</td>\n",
       "      <td>223500</td>\n",
       "    </tr>\n",
       "    <tr>\n",
       "      <th>3</th>\n",
       "      <td>4</td>\n",
       "      <td>70</td>\n",
       "      <td>60.0</td>\n",
       "      <td>9550</td>\n",
       "      <td>0.0</td>\n",
       "      <td>216.0</td>\n",
       "      <td>0.0</td>\n",
       "      <td>540.0</td>\n",
       "      <td>756.0</td>\n",
       "      <td>961</td>\n",
       "      <td>...</td>\n",
       "      <td>3.0</td>\n",
       "      <td>642.0</td>\n",
       "      <td>0</td>\n",
       "      <td>35</td>\n",
       "      <td>272</td>\n",
       "      <td>0</td>\n",
       "      <td>0</td>\n",
       "      <td>0</td>\n",
       "      <td>0</td>\n",
       "      <td>140000</td>\n",
       "    </tr>\n",
       "    <tr>\n",
       "      <th>4</th>\n",
       "      <td>5</td>\n",
       "      <td>60</td>\n",
       "      <td>84.0</td>\n",
       "      <td>14260</td>\n",
       "      <td>350.0</td>\n",
       "      <td>655.0</td>\n",
       "      <td>0.0</td>\n",
       "      <td>490.0</td>\n",
       "      <td>1145.0</td>\n",
       "      <td>1145</td>\n",
       "      <td>...</td>\n",
       "      <td>3.0</td>\n",
       "      <td>836.0</td>\n",
       "      <td>192</td>\n",
       "      <td>84</td>\n",
       "      <td>0</td>\n",
       "      <td>0</td>\n",
       "      <td>0</td>\n",
       "      <td>0</td>\n",
       "      <td>0</td>\n",
       "      <td>250000</td>\n",
       "    </tr>\n",
       "  </tbody>\n",
       "</table>\n",
       "<p>5 rows × 31 columns</p>\n",
       "</div>"
      ],
      "text/plain": [
       "   Id  MSSubClass  LotFrontage  LotArea  MasVnrArea  BsmtFinSF1  BsmtFinSF2  \\\n",
       "0   1          60         65.0     8450       196.0       706.0         0.0   \n",
       "1   2          20         80.0     9600         0.0       978.0         0.0   \n",
       "2   3          60         68.0    11250       162.0       486.0         0.0   \n",
       "3   4          70         60.0     9550         0.0       216.0         0.0   \n",
       "4   5          60         84.0    14260       350.0       655.0         0.0   \n",
       "\n",
       "   BsmtUnfSF  TotalBsmtSF  1stFlrSF  ...  GarageCars  GarageArea  WoodDeckSF  \\\n",
       "0      150.0        856.0       856  ...         2.0       548.0           0   \n",
       "1      284.0       1262.0      1262  ...         2.0       460.0         298   \n",
       "2      434.0        920.0       920  ...         2.0       608.0           0   \n",
       "3      540.0        756.0       961  ...         3.0       642.0           0   \n",
       "4      490.0       1145.0      1145  ...         3.0       836.0         192   \n",
       "\n",
       "   OpenPorchSF  EnclosedPorch  3SsnPorch  ScreenPorch  PoolArea  MiscVal  \\\n",
       "0           61              0          0            0         0        0   \n",
       "1            0              0          0            0         0        0   \n",
       "2           42              0          0            0         0        0   \n",
       "3           35            272          0            0         0        0   \n",
       "4           84              0          0            0         0        0   \n",
       "\n",
       "   SalePrice  \n",
       "0     208500  \n",
       "1     181500  \n",
       "2     223500  \n",
       "3     140000  \n",
       "4     250000  \n",
       "\n",
       "[5 rows x 31 columns]"
      ]
     },
     "execution_count": 42,
     "metadata": {},
     "output_type": "execute_result"
    }
   ],
   "source": [
    "numericcols.head()\n",
    "\n",
    "# when numerical variables arre in different  mathematical units \n",
    "#use scaling techniques\n",
    "#standard scalar or Z-Score -(x-mean)/stddev(both negativa and positive values)\n",
    "# minmax scalar(positive range of 0 -- 1) and robust scalar(for outliers)"
   ]
  },
  {
   "cell_type": "markdown",
   "id": "4bf642fa",
   "metadata": {},
   "source": [
    "# Calculating Z_score using standard Scalar"
   ]
  },
  {
   "cell_type": "code",
   "execution_count": 43,
   "id": "efb8a0ac",
   "metadata": {
    "ExecuteTime": {
     "end_time": "2022-12-09T10:48:12.471929Z",
     "start_time": "2022-12-09T10:48:12.458810Z"
    }
   },
   "outputs": [],
   "source": [
    "from sklearn.preprocessing import StandardScaler"
   ]
  },
  {
   "cell_type": "code",
   "execution_count": 44,
   "id": "145ad99f",
   "metadata": {
    "ExecuteTime": {
     "end_time": "2022-12-09T10:48:12.490973Z",
     "start_time": "2022-12-09T10:48:12.476486Z"
    }
   },
   "outputs": [],
   "source": [
    "scaler = StandardScaler()"
   ]
  },
  {
   "cell_type": "code",
   "execution_count": 45,
   "id": "40a0b421",
   "metadata": {
    "ExecuteTime": {
     "end_time": "2022-12-09T10:48:12.522334Z",
     "start_time": "2022-12-09T10:48:12.494524Z"
    }
   },
   "outputs": [],
   "source": [
    "numericcols_scaled = scaler.fit_transform(numericcols.drop(['Id','SalePrice'],axis=1))"
   ]
  },
  {
   "cell_type": "code",
   "execution_count": 46,
   "id": "54853a15",
   "metadata": {
    "ExecuteTime": {
     "end_time": "2022-12-09T10:48:12.537768Z",
     "start_time": "2022-12-09T10:48:12.526836Z"
    }
   },
   "outputs": [],
   "source": [
    "numericcols_scaled = pd.DataFrame(numericcols_scaled,columns=numericcols.columns[1:30])"
   ]
  },
  {
   "cell_type": "code",
   "execution_count": 47,
   "id": "e4e2cb9c",
   "metadata": {
    "ExecuteTime": {
     "end_time": "2022-12-09T10:48:12.588960Z",
     "start_time": "2022-12-09T10:48:12.544178Z"
    }
   },
   "outputs": [
    {
     "data": {
      "text/html": [
       "<div>\n",
       "<style scoped>\n",
       "    .dataframe tbody tr th:only-of-type {\n",
       "        vertical-align: middle;\n",
       "    }\n",
       "\n",
       "    .dataframe tbody tr th {\n",
       "        vertical-align: top;\n",
       "    }\n",
       "\n",
       "    .dataframe thead th {\n",
       "        text-align: right;\n",
       "    }\n",
       "</style>\n",
       "<table border=\"1\" class=\"dataframe\">\n",
       "  <thead>\n",
       "    <tr style=\"text-align: right;\">\n",
       "      <th></th>\n",
       "      <th>MSSubClass</th>\n",
       "      <th>LotFrontage</th>\n",
       "      <th>LotArea</th>\n",
       "      <th>MasVnrArea</th>\n",
       "      <th>BsmtFinSF1</th>\n",
       "      <th>BsmtFinSF2</th>\n",
       "      <th>BsmtUnfSF</th>\n",
       "      <th>TotalBsmtSF</th>\n",
       "      <th>1stFlrSF</th>\n",
       "      <th>2ndFlrSF</th>\n",
       "      <th>...</th>\n",
       "      <th>Fireplaces</th>\n",
       "      <th>GarageCars</th>\n",
       "      <th>GarageArea</th>\n",
       "      <th>WoodDeckSF</th>\n",
       "      <th>OpenPorchSF</th>\n",
       "      <th>EnclosedPorch</th>\n",
       "      <th>3SsnPorch</th>\n",
       "      <th>ScreenPorch</th>\n",
       "      <th>PoolArea</th>\n",
       "      <th>MiscVal</th>\n",
       "    </tr>\n",
       "  </thead>\n",
       "  <tbody>\n",
       "    <tr>\n",
       "      <th>0</th>\n",
       "      <td>0.067331</td>\n",
       "      <td>-0.191815</td>\n",
       "      <td>-0.217879</td>\n",
       "      <td>0.529034</td>\n",
       "      <td>0.580959</td>\n",
       "      <td>-0.293025</td>\n",
       "      <td>-0.934782</td>\n",
       "      <td>-0.444278</td>\n",
       "      <td>-0.773861</td>\n",
       "      <td>1.207379</td>\n",
       "      <td>...</td>\n",
       "      <td>-0.924311</td>\n",
       "      <td>0.306418</td>\n",
       "      <td>0.348888</td>\n",
       "      <td>-0.740760</td>\n",
       "      <td>0.200006</td>\n",
       "      <td>-0.359601</td>\n",
       "      <td>-0.103331</td>\n",
       "      <td>-0.285935</td>\n",
       "      <td>-0.06315</td>\n",
       "      <td>-0.089592</td>\n",
       "    </tr>\n",
       "    <tr>\n",
       "      <th>1</th>\n",
       "      <td>-0.873616</td>\n",
       "      <td>0.511940</td>\n",
       "      <td>-0.072044</td>\n",
       "      <td>-0.567016</td>\n",
       "      <td>1.178162</td>\n",
       "      <td>-0.293025</td>\n",
       "      <td>-0.629818</td>\n",
       "      <td>0.477158</td>\n",
       "      <td>0.261075</td>\n",
       "      <td>-0.785025</td>\n",
       "      <td>...</td>\n",
       "      <td>0.623632</td>\n",
       "      <td>0.306418</td>\n",
       "      <td>-0.059804</td>\n",
       "      <td>1.614879</td>\n",
       "      <td>-0.702843</td>\n",
       "      <td>-0.359601</td>\n",
       "      <td>-0.103331</td>\n",
       "      <td>-0.285935</td>\n",
       "      <td>-0.06315</td>\n",
       "      <td>-0.089592</td>\n",
       "    </tr>\n",
       "    <tr>\n",
       "      <th>2</th>\n",
       "      <td>0.067331</td>\n",
       "      <td>-0.051064</td>\n",
       "      <td>0.137197</td>\n",
       "      <td>0.338903</td>\n",
       "      <td>0.097928</td>\n",
       "      <td>-0.293025</td>\n",
       "      <td>-0.288441</td>\n",
       "      <td>-0.299027</td>\n",
       "      <td>-0.610718</td>\n",
       "      <td>1.235375</td>\n",
       "      <td>...</td>\n",
       "      <td>0.623632</td>\n",
       "      <td>0.306418</td>\n",
       "      <td>0.627542</td>\n",
       "      <td>-0.740760</td>\n",
       "      <td>-0.081209</td>\n",
       "      <td>-0.359601</td>\n",
       "      <td>-0.103331</td>\n",
       "      <td>-0.285935</td>\n",
       "      <td>-0.06315</td>\n",
       "      <td>-0.089592</td>\n",
       "    </tr>\n",
       "    <tr>\n",
       "      <th>3</th>\n",
       "      <td>0.302568</td>\n",
       "      <td>-0.426400</td>\n",
       "      <td>-0.078385</td>\n",
       "      <td>-0.567016</td>\n",
       "      <td>-0.494884</td>\n",
       "      <td>-0.293025</td>\n",
       "      <td>-0.047201</td>\n",
       "      <td>-0.671232</td>\n",
       "      <td>-0.506205</td>\n",
       "      <td>0.978742</td>\n",
       "      <td>...</td>\n",
       "      <td>0.623632</td>\n",
       "      <td>1.619830</td>\n",
       "      <td>0.785446</td>\n",
       "      <td>-0.740760</td>\n",
       "      <td>-0.184815</td>\n",
       "      <td>3.874967</td>\n",
       "      <td>-0.103331</td>\n",
       "      <td>-0.285935</td>\n",
       "      <td>-0.06315</td>\n",
       "      <td>-0.089592</td>\n",
       "    </tr>\n",
       "    <tr>\n",
       "      <th>4</th>\n",
       "      <td>0.067331</td>\n",
       "      <td>0.699608</td>\n",
       "      <td>0.518903</td>\n",
       "      <td>1.390216</td>\n",
       "      <td>0.468984</td>\n",
       "      <td>-0.293025</td>\n",
       "      <td>-0.160994</td>\n",
       "      <td>0.211621</td>\n",
       "      <td>-0.037170</td>\n",
       "      <td>1.671651</td>\n",
       "      <td>...</td>\n",
       "      <td>0.623632</td>\n",
       "      <td>1.619830</td>\n",
       "      <td>1.686426</td>\n",
       "      <td>0.776967</td>\n",
       "      <td>0.540424</td>\n",
       "      <td>-0.359601</td>\n",
       "      <td>-0.103331</td>\n",
       "      <td>-0.285935</td>\n",
       "      <td>-0.06315</td>\n",
       "      <td>-0.089592</td>\n",
       "    </tr>\n",
       "  </tbody>\n",
       "</table>\n",
       "<p>5 rows × 29 columns</p>\n",
       "</div>"
      ],
      "text/plain": [
       "   MSSubClass  LotFrontage   LotArea  MasVnrArea  BsmtFinSF1  BsmtFinSF2  \\\n",
       "0    0.067331    -0.191815 -0.217879    0.529034    0.580959   -0.293025   \n",
       "1   -0.873616     0.511940 -0.072044   -0.567016    1.178162   -0.293025   \n",
       "2    0.067331    -0.051064  0.137197    0.338903    0.097928   -0.293025   \n",
       "3    0.302568    -0.426400 -0.078385   -0.567016   -0.494884   -0.293025   \n",
       "4    0.067331     0.699608  0.518903    1.390216    0.468984   -0.293025   \n",
       "\n",
       "   BsmtUnfSF  TotalBsmtSF  1stFlrSF  2ndFlrSF  ...  Fireplaces  GarageCars  \\\n",
       "0  -0.934782    -0.444278 -0.773861  1.207379  ...   -0.924311    0.306418   \n",
       "1  -0.629818     0.477158  0.261075 -0.785025  ...    0.623632    0.306418   \n",
       "2  -0.288441    -0.299027 -0.610718  1.235375  ...    0.623632    0.306418   \n",
       "3  -0.047201    -0.671232 -0.506205  0.978742  ...    0.623632    1.619830   \n",
       "4  -0.160994     0.211621 -0.037170  1.671651  ...    0.623632    1.619830   \n",
       "\n",
       "   GarageArea  WoodDeckSF  OpenPorchSF  EnclosedPorch  3SsnPorch  ScreenPorch  \\\n",
       "0    0.348888   -0.740760     0.200006      -0.359601  -0.103331    -0.285935   \n",
       "1   -0.059804    1.614879    -0.702843      -0.359601  -0.103331    -0.285935   \n",
       "2    0.627542   -0.740760    -0.081209      -0.359601  -0.103331    -0.285935   \n",
       "3    0.785446   -0.740760    -0.184815       3.874967  -0.103331    -0.285935   \n",
       "4    1.686426    0.776967     0.540424      -0.359601  -0.103331    -0.285935   \n",
       "\n",
       "   PoolArea   MiscVal  \n",
       "0  -0.06315 -0.089592  \n",
       "1  -0.06315 -0.089592  \n",
       "2  -0.06315 -0.089592  \n",
       "3  -0.06315 -0.089592  \n",
       "4  -0.06315 -0.089592  \n",
       "\n",
       "[5 rows x 29 columns]"
      ]
     },
     "execution_count": 47,
     "metadata": {},
     "output_type": "execute_result"
    }
   ],
   "source": [
    "numericcols_scaled.head()"
   ]
  },
  {
   "cell_type": "code",
   "execution_count": 48,
   "id": "db659300",
   "metadata": {
    "ExecuteTime": {
     "end_time": "2022-12-09T10:48:12.604444Z",
     "start_time": "2022-12-09T10:48:12.592934Z"
    }
   },
   "outputs": [],
   "source": [
    "objectcols_encoded = objectcols_encoded.reset_index(drop=True)"
   ]
  },
  {
   "cell_type": "code",
   "execution_count": 49,
   "id": "6b095c66",
   "metadata": {
    "ExecuteTime": {
     "end_time": "2022-12-09T10:48:12.620458Z",
     "start_time": "2022-12-09T10:48:12.608448Z"
    }
   },
   "outputs": [],
   "source": [
    "numericcols_scaled = numericcols_scaled.reset_index(drop=True)"
   ]
  },
  {
   "cell_type": "code",
   "execution_count": 50,
   "id": "6303f274",
   "metadata": {
    "ExecuteTime": {
     "end_time": "2022-12-09T10:48:12.636140Z",
     "start_time": "2022-12-09T10:48:12.624624Z"
    }
   },
   "outputs": [],
   "source": [
    "category_cols_encoded = category_cols_encoded.reset_index(drop=True)"
   ]
  },
  {
   "cell_type": "code",
   "execution_count": 51,
   "id": "078ff4a1",
   "metadata": {
    "ExecuteTime": {
     "end_time": "2022-12-09T10:48:12.651851Z",
     "start_time": "2022-12-09T10:48:12.640558Z"
    }
   },
   "outputs": [],
   "source": [
    "combineddf_clean = pd.concat([numericcols_scaled,objectcols_encoded,\n",
    "                             category_cols_encoded],axis=1)"
   ]
  },
  {
   "cell_type": "markdown",
   "id": "110ec342",
   "metadata": {},
   "source": [
    "# Split data to train and test"
   ]
  },
  {
   "cell_type": "code",
   "execution_count": 52,
   "id": "27093c4f",
   "metadata": {
    "ExecuteTime": {
     "end_time": "2022-12-09T10:48:12.667593Z",
     "start_time": "2022-12-09T10:48:12.656120Z"
    }
   },
   "outputs": [],
   "source": [
    "numericcols = numericcols.reset_index(drop=True)"
   ]
  },
  {
   "cell_type": "code",
   "execution_count": 53,
   "id": "b9c46484",
   "metadata": {
    "ExecuteTime": {
     "end_time": "2022-12-09T10:48:12.683226Z",
     "start_time": "2022-12-09T10:48:12.669057Z"
    }
   },
   "outputs": [],
   "source": [
    "combineddf_clean['SalePrice'] = numericcols.SalePrice"
   ]
  },
  {
   "cell_type": "code",
   "execution_count": 54,
   "id": "748ad998",
   "metadata": {
    "ExecuteTime": {
     "end_time": "2022-12-09T10:48:12.699238Z",
     "start_time": "2022-12-09T10:48:12.687209Z"
    }
   },
   "outputs": [],
   "source": [
    "combineddf_clean['SalePrice'] = numericcols.SalePrice"
   ]
  },
  {
   "cell_type": "code",
   "execution_count": 55,
   "id": "d469f908",
   "metadata": {
    "ExecuteTime": {
     "end_time": "2022-12-09T10:48:12.715316Z",
     "start_time": "2022-12-09T10:48:12.703216Z"
    }
   },
   "outputs": [],
   "source": [
    "train_df = combineddf_clean[combineddf_clean.SalePrice!='test']"
   ]
  },
  {
   "cell_type": "code",
   "execution_count": 56,
   "id": "15329f63",
   "metadata": {
    "ExecuteTime": {
     "end_time": "2022-12-09T10:48:12.731311Z",
     "start_time": "2022-12-09T10:48:12.718289Z"
    }
   },
   "outputs": [],
   "source": [
    "test_df = combineddf_clean[combineddf_clean.SalePrice=='test']"
   ]
  },
  {
   "cell_type": "code",
   "execution_count": 57,
   "id": "2ee4812b",
   "metadata": {
    "ExecuteTime": {
     "end_time": "2022-12-09T10:48:12.746976Z",
     "start_time": "2022-12-09T10:48:12.735309Z"
    }
   },
   "outputs": [],
   "source": [
    "test_df = test_df.drop('SalePrice',axis=1)"
   ]
  },
  {
   "cell_type": "code",
   "execution_count": 58,
   "id": "dd39b972",
   "metadata": {
    "ExecuteTime": {
     "end_time": "2022-12-09T10:48:12.762102Z",
     "start_time": "2022-12-09T10:48:12.751260Z"
    }
   },
   "outputs": [],
   "source": [
    "y = train_df.SalePrice\n",
    "x = train_df.drop('SalePrice',axis=1)"
   ]
  },
  {
   "cell_type": "code",
   "execution_count": 59,
   "id": "6d0b00cf",
   "metadata": {
    "ExecuteTime": {
     "end_time": "2022-12-09T10:48:12.777642Z",
     "start_time": "2022-12-09T10:48:12.767047Z"
    }
   },
   "outputs": [],
   "source": [
    "y = y.astype(\"int64\")"
   ]
  },
  {
   "cell_type": "markdown",
   "id": "a7fcef48",
   "metadata": {},
   "source": [
    " "
   ]
  },
  {
   "cell_type": "markdown",
   "id": "f11f1ccf",
   "metadata": {},
   "source": [
    " "
   ]
  },
  {
   "cell_type": "markdown",
   "id": "b0629a16",
   "metadata": {},
   "source": [
    "# Building The Models\n",
    "\n",
    "## Linear Regression"
   ]
  },
  {
   "cell_type": "code",
   "execution_count": 60,
   "id": "49d66b00",
   "metadata": {
    "ExecuteTime": {
     "end_time": "2022-12-09T10:48:13.352240Z",
     "start_time": "2022-12-09T10:48:12.781628Z"
    }
   },
   "outputs": [],
   "source": [
    "from sklearn.linear_model import LinearRegression"
   ]
  },
  {
   "cell_type": "code",
   "execution_count": 61,
   "id": "dcf335a5",
   "metadata": {
    "ExecuteTime": {
     "end_time": "2022-12-09T10:48:13.367610Z",
     "start_time": "2022-12-09T10:48:13.352240Z"
    }
   },
   "outputs": [],
   "source": [
    "reg = LinearRegression()"
   ]
  },
  {
   "cell_type": "code",
   "execution_count": 62,
   "id": "08118b89",
   "metadata": {
    "ExecuteTime": {
     "end_time": "2022-12-09T10:48:13.453740Z",
     "start_time": "2022-12-09T10:48:13.367996Z"
    }
   },
   "outputs": [],
   "source": [
    "regmodel = reg.fit(x,y)"
   ]
  },
  {
   "cell_type": "code",
   "execution_count": 63,
   "id": "0f83249a",
   "metadata": {
    "ExecuteTime": {
     "end_time": "2022-12-09T10:48:13.478110Z",
     "start_time": "2022-12-09T10:48:13.454583Z"
    }
   },
   "outputs": [
    {
     "data": {
      "text/plain": [
       "0.8544531061204118"
      ]
     },
     "execution_count": 63,
     "metadata": {},
     "output_type": "execute_result"
    }
   ],
   "source": [
    "regmodel.score(x,y)"
   ]
  },
  {
   "cell_type": "code",
   "execution_count": 64,
   "id": "6617b699",
   "metadata": {
    "ExecuteTime": {
     "end_time": "2022-12-09T10:48:13.508235Z",
     "start_time": "2022-12-09T10:48:13.484048Z"
    }
   },
   "outputs": [],
   "source": [
    "test_predict = regmodel.predict(test_df)"
   ]
  },
  {
   "cell_type": "code",
   "execution_count": 65,
   "id": "a073aad2",
   "metadata": {
    "ExecuteTime": {
     "end_time": "2022-12-09T10:48:13.532811Z",
     "start_time": "2022-12-09T10:48:13.512157Z"
    }
   },
   "outputs": [
    {
     "data": {
      "text/plain": [
       "array([106544.33985325, 161500.77319595, 166745.56202854, ...,\n",
       "       142092.05182927, 113828.95028438, 242313.2592364 ])"
      ]
     },
     "execution_count": 65,
     "metadata": {},
     "output_type": "execute_result"
    }
   ],
   "source": [
    "test_predict"
   ]
  },
  {
   "cell_type": "code",
   "execution_count": 66,
   "id": "072daa65",
   "metadata": {
    "ExecuteTime": {
     "end_time": "2022-12-09T10:48:13.563923Z",
     "start_time": "2022-12-09T10:48:13.534793Z"
    }
   },
   "outputs": [],
   "source": [
    "pd.DataFrame(test_predict).to_csv(\"MLR.csv\")"
   ]
  },
  {
   "cell_type": "markdown",
   "id": "aeeabddb",
   "metadata": {},
   "source": [
    " "
   ]
  },
  {
   "cell_type": "markdown",
   "id": "e3d49d5a",
   "metadata": {},
   "source": [
    " "
   ]
  },
  {
   "cell_type": "markdown",
   "id": "e96def3e",
   "metadata": {},
   "source": [
    "## Decision Tree Regressor"
   ]
  },
  {
   "cell_type": "code",
   "execution_count": 78,
   "id": "cd3be459",
   "metadata": {
    "ExecuteTime": {
     "end_time": "2022-12-09T10:51:20.019889Z",
     "start_time": "2022-12-09T10:51:20.002099Z"
    }
   },
   "outputs": [],
   "source": [
    "from sklearn.tree import DecisionTreeRegressor"
   ]
  },
  {
   "cell_type": "code",
   "execution_count": 79,
   "id": "8673314d",
   "metadata": {
    "ExecuteTime": {
     "end_time": "2022-12-09T10:51:20.637493Z",
     "start_time": "2022-12-09T10:51:20.626707Z"
    }
   },
   "outputs": [],
   "source": [
    "tree = DecisionTreeRegressor()"
   ]
  },
  {
   "cell_type": "code",
   "execution_count": 80,
   "id": "385a03c1",
   "metadata": {
    "ExecuteTime": {
     "end_time": "2022-12-09T10:51:21.365906Z",
     "start_time": "2022-12-09T10:51:21.294456Z"
    }
   },
   "outputs": [],
   "source": [
    "treemodel = tree.fit(x,y)"
   ]
  },
  {
   "cell_type": "code",
   "execution_count": 81,
   "id": "1103ed52",
   "metadata": {
    "ExecuteTime": {
     "end_time": "2022-12-09T10:51:22.412200Z",
     "start_time": "2022-12-09T10:51:22.388814Z"
    }
   },
   "outputs": [
    {
     "data": {
      "text/plain": [
       "1.0"
      ]
     },
     "execution_count": 81,
     "metadata": {},
     "output_type": "execute_result"
    }
   ],
   "source": [
    "treemodel.score(x,y)"
   ]
  },
  {
   "cell_type": "code",
   "execution_count": 82,
   "id": "d5afa12c",
   "metadata": {
    "ExecuteTime": {
     "end_time": "2022-12-09T10:51:23.629703Z",
     "start_time": "2022-12-09T10:51:23.613618Z"
    }
   },
   "outputs": [],
   "source": [
    "treepredict = treemodel.predict(test_df)"
   ]
  },
  {
   "cell_type": "code",
   "execution_count": 84,
   "id": "d0da954e",
   "metadata": {
    "ExecuteTime": {
     "end_time": "2022-12-09T10:51:50.869340Z",
     "start_time": "2022-12-09T10:51:50.848105Z"
    }
   },
   "outputs": [
    {
     "data": {
      "text/plain": [
       "array([129000., 157900., 193000., ..., 142500., 108000., 219500.])"
      ]
     },
     "execution_count": 84,
     "metadata": {},
     "output_type": "execute_result"
    }
   ],
   "source": [
    "treepredict"
   ]
  },
  {
   "cell_type": "code",
   "execution_count": 85,
   "id": "3e1fb222",
   "metadata": {
    "ExecuteTime": {
     "end_time": "2022-12-09T10:52:08.182007Z",
     "start_time": "2022-12-09T10:52:08.166713Z"
    }
   },
   "outputs": [],
   "source": [
    "pd.DataFrame(treepredict).to_csv(\"DTR.csv\")"
   ]
  },
  {
   "cell_type": "markdown",
   "id": "2aa37300",
   "metadata": {},
   "source": [
    " "
   ]
  },
  {
   "cell_type": "markdown",
   "id": "eabf215b",
   "metadata": {},
   "source": [
    "  "
   ]
  },
  {
   "cell_type": "markdown",
   "id": "47971289",
   "metadata": {},
   "source": [
    " ## Random Forest Regressor"
   ]
  },
  {
   "cell_type": "code",
   "execution_count": 86,
   "id": "fe23a8d8",
   "metadata": {
    "ExecuteTime": {
     "end_time": "2022-12-09T10:52:22.907834Z",
     "start_time": "2022-12-09T10:52:22.647997Z"
    }
   },
   "outputs": [],
   "source": [
    "from sklearn.ensemble import RandomForestRegressor"
   ]
  },
  {
   "cell_type": "code",
   "execution_count": 87,
   "id": "7ef0ab70",
   "metadata": {
    "ExecuteTime": {
     "end_time": "2022-12-09T10:52:23.523483Z",
     "start_time": "2022-12-09T10:52:23.510340Z"
    }
   },
   "outputs": [],
   "source": [
    "rf = RandomForestRegressor(n_estimators=3000)"
   ]
  },
  {
   "cell_type": "code",
   "execution_count": 88,
   "id": "bef08346",
   "metadata": {
    "ExecuteTime": {
     "end_time": "2022-12-09T10:54:44.239250Z",
     "start_time": "2022-12-09T10:52:25.617064Z"
    }
   },
   "outputs": [],
   "source": [
    "rfmodel = rf.fit(x,y)"
   ]
  },
  {
   "cell_type": "code",
   "execution_count": 89,
   "id": "2b830442",
   "metadata": {
    "ExecuteTime": {
     "end_time": "2022-12-09T10:57:20.330098Z",
     "start_time": "2022-12-09T10:57:18.129176Z"
    }
   },
   "outputs": [
    {
     "data": {
      "text/plain": [
       "0.9823639182885214"
      ]
     },
     "execution_count": 89,
     "metadata": {},
     "output_type": "execute_result"
    }
   ],
   "source": [
    "rfmodel.score(x,y)"
   ]
  },
  {
   "cell_type": "code",
   "execution_count": 90,
   "id": "d2d1806c",
   "metadata": {
    "ExecuteTime": {
     "end_time": "2022-12-09T10:57:54.864080Z",
     "start_time": "2022-12-09T10:57:52.709782Z"
    }
   },
   "outputs": [],
   "source": [
    "rfpredict = rfmodel.predict(test_df)"
   ]
  },
  {
   "cell_type": "code",
   "execution_count": 92,
   "id": "5c15fb56",
   "metadata": {
    "ExecuteTime": {
     "end_time": "2022-12-09T10:58:06.004736Z",
     "start_time": "2022-12-09T10:58:05.984855Z"
    }
   },
   "outputs": [
    {
     "data": {
      "text/plain": [
       "array([126578.241     , 154505.90666667, 179745.988     , ...,\n",
       "       152273.27733333, 114881.489     , 227743.097     ])"
      ]
     },
     "execution_count": 92,
     "metadata": {},
     "output_type": "execute_result"
    }
   ],
   "source": [
    "rfpredict"
   ]
  },
  {
   "cell_type": "code",
   "execution_count": 94,
   "id": "800e85ae",
   "metadata": {
    "ExecuteTime": {
     "end_time": "2022-12-09T10:58:59.109039Z",
     "start_time": "2022-12-09T10:58:59.073431Z"
    }
   },
   "outputs": [],
   "source": [
    "pd.DataFrame(rfpredict).to_csv(\"RF.csv\")"
   ]
  },
  {
   "cell_type": "code",
   "execution_count": null,
   "id": "a1c5be49",
   "metadata": {
    "ExecuteTime": {
     "end_time": "2022-12-09T10:48:14.888236Z",
     "start_time": "2022-12-09T10:48:14.888236Z"
    }
   },
   "outputs": [],
   "source": [
    "from sklearn.ensemble import GradientBoostingRegressor"
   ]
  },
  {
   "cell_type": "code",
   "execution_count": null,
   "id": "755357d6",
   "metadata": {
    "ExecuteTime": {
     "end_time": "2022-12-09T10:48:14.893378Z",
     "start_time": "2022-12-09T10:48:14.893378Z"
    }
   },
   "outputs": [],
   "source": [
    "gbm = GradientBoostingRegressor(n_estimators=3000)"
   ]
  },
  {
   "cell_type": "code",
   "execution_count": null,
   "id": "7513b727",
   "metadata": {
    "ExecuteTime": {
     "end_time": "2022-12-09T10:48:14.896879Z",
     "start_time": "2022-12-09T10:48:14.896879Z"
    }
   },
   "outputs": [],
   "source": [
    "gbmmodel = gbm.fit(x,y)"
   ]
  },
  {
   "cell_type": "code",
   "execution_count": null,
   "id": "65c9fd74",
   "metadata": {
    "ExecuteTime": {
     "end_time": "2022-12-09T10:48:14.898758Z",
     "start_time": "2022-12-09T10:48:14.898758Z"
    }
   },
   "outputs": [],
   "source": [
    "gbmmodel.score(x,y)"
   ]
  },
  {
   "cell_type": "markdown",
   "id": "b9ee9b5a",
   "metadata": {},
   "source": [
    " "
   ]
  },
  {
   "cell_type": "markdown",
   "id": "266ee1d5",
   "metadata": {},
   "source": [
    " "
   ]
  },
  {
   "cell_type": "markdown",
   "id": "2715b309",
   "metadata": {},
   "source": [
    "# END"
   ]
  }
 ],
 "metadata": {
  "hide_input": false,
  "kernelspec": {
   "display_name": "Python 3 (ipykernel)",
   "language": "python",
   "name": "python3"
  },
  "language_info": {
   "codemirror_mode": {
    "name": "ipython",
    "version": 3
   },
   "file_extension": ".py",
   "mimetype": "text/x-python",
   "name": "python",
   "nbconvert_exporter": "python",
   "pygments_lexer": "ipython3",
   "version": "3.10.6"
  },
  "nbTranslate": {
   "displayLangs": [
    "*"
   ],
   "hotkey": "alt-t",
   "langInMainMenu": true,
   "sourceLang": "en",
   "targetLang": "fr",
   "useGoogleTranslate": true
  },
  "toc": {
   "base_numbering": 1,
   "nav_menu": {},
   "number_sections": true,
   "sideBar": true,
   "skip_h1_title": false,
   "title_cell": "Table of Contents",
   "title_sidebar": "Contents",
   "toc_cell": false,
   "toc_position": {},
   "toc_section_display": true,
   "toc_window_display": false
  },
  "varInspector": {
   "cols": {
    "lenName": 16,
    "lenType": 16,
    "lenVar": 40
   },
   "kernels_config": {
    "python": {
     "delete_cmd_postfix": "",
     "delete_cmd_prefix": "del ",
     "library": "var_list.py",
     "varRefreshCmd": "print(var_dic_list())"
    },
    "r": {
     "delete_cmd_postfix": ") ",
     "delete_cmd_prefix": "rm(",
     "library": "var_list.r",
     "varRefreshCmd": "cat(var_dic_list()) "
    }
   },
   "types_to_exclude": [
    "module",
    "function",
    "builtin_function_or_method",
    "instance",
    "_Feature"
   ],
   "window_display": false
  }
 },
 "nbformat": 4,
 "nbformat_minor": 5
}
